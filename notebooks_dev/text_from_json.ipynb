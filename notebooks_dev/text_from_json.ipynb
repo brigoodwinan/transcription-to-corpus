{
 "cells": [
  {
   "cell_type": "code",
   "execution_count": 1,
   "id": "ebfbfa23-5cfb-458a-ab74-6b08f99cd744",
   "metadata": {},
   "outputs": [],
   "source": [
    "import json"
   ]
  },
  {
   "cell_type": "code",
   "execution_count": 2,
   "id": "4d79e35b-1104-4b45-a29e-8808ce686cfb",
   "metadata": {},
   "outputs": [],
   "source": [
    "with open(\"./data/bani-che-kardi/7cBDDK3OSu4.json\",\"r\") as f:\n",
    "    tmp = json.load(f)"
   ]
  },
  {
   "cell_type": "code",
   "execution_count": 5,
   "id": "e8b9b372-0aa3-4661-bce0-a74bd51822df",
   "metadata": {},
   "outputs": [],
   "source": [
    "tmp = tmp[\"segments\"]\n",
    "\n",
    "_ = [k.pop(\"tokens\") for k in tmp]"
   ]
  },
  {
   "cell_type": "code",
   "execution_count": null,
   "id": "617f1335-2ec2-4079-9e62-a2b1091f3954",
   "metadata": {},
   "outputs": [],
   "source": [
    "tmp"
   ]
  },
  {
   "cell_type": "code",
   "execution_count": null,
   "id": "508b4936-f637-48e2-b2bb-7466d9bccd0b",
   "metadata": {},
   "outputs": [],
   "source": [
    "# Function to convert start time to \"minutes seconds\" format and format the data accordingly\n",
    "def convert_to_min_sec_format(data, timeadd:int):\n",
    "    formatted_text = \"\\n\".join([\n",
    "        f\"[{int((item['start'] +timeadd) // 60)}:{int((item['start']+timeadd) % 60):02}] \\\"{item['text'].strip()}\\\"\"\n",
    "        for item in data\n",
    "    ])\n",
    "    return formatted_text\n",
    "\n",
    "# Convert using the new format requirement\n",
    "min_sec_text_format = convert_to_min_sec_format(tmp,895)\n",
    "print(min_sec_text_format)"
   ]
  },
  {
   "cell_type": "code",
   "execution_count": 44,
   "id": "87e100b6-438b-4109-88c0-a3c96e177038",
   "metadata": {},
   "outputs": [],
   "source": [
    "# Save to a new text file\n",
    "min_sec_file_path = \"./data/bani-che-kardi/7cBDDK3OSu4.txt\"\n",
    "with open(min_sec_file_path, 'w') as file:\n",
    "    file.write(min_sec_text_format)"
   ]
  },
  {
   "cell_type": "code",
   "execution_count": null,
   "id": "9f31d022-1da0-4862-b287-01520b3b5ddf",
   "metadata": {},
   "outputs": [],
   "source": []
  }
 ],
 "metadata": {
  "kernelspec": {
   "display_name": "Python 3 (ipykernel)",
   "language": "python",
   "name": "python3"
  },
  "language_info": {
   "codemirror_mode": {
    "name": "ipython",
    "version": 3
   },
   "file_extension": ".py",
   "mimetype": "text/x-python",
   "name": "python",
   "nbconvert_exporter": "python",
   "pygments_lexer": "ipython3",
   "version": "3.10.6"
  }
 },
 "nbformat": 4,
 "nbformat_minor": 5
}
