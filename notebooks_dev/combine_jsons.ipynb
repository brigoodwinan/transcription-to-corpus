{
 "cells": [
  {
   "cell_type": "code",
   "execution_count": 5,
   "id": "ebfbfa23-5cfb-458a-ab74-6b08f99cd744",
   "metadata": {},
   "outputs": [],
   "source": [
    "from glob import glob\n",
    "from os.path import join as pjoin\n",
    "import os\n",
    "from pathlib import Path\n",
    "import json\n",
    "import pandas as pd"
   ]
  },
  {
   "cell_type": "code",
   "execution_count": 4,
   "id": "cac31119",
   "metadata": {},
   "outputs": [
    {
     "data": {
      "text/plain": [
       "6"
      ]
     },
     "execution_count": 4,
     "metadata": {},
     "output_type": "execute_result"
    }
   ],
   "source": [
    "fls = glob(\"../DoZan-movie/audio-chunks/*json\")\n",
    "len(fls)"
   ]
  },
  {
   "cell_type": "code",
   "execution_count": 17,
   "id": "e8b9b372-0aa3-4661-bce0-a74bd51822df",
   "metadata": {},
   "outputs": [],
   "source": [
    "segs = []\n",
    "for fname in fls:\n",
    "    with open(fname,'r') as f:\n",
    "        tmp = json.load(f)\n",
    "    \n",
    "    _ = [k.pop(\"tokens\") for k in tmp['segments']]\n",
    "    tmp = pd.DataFrame(tmp[\"segments\"])\n",
    "    tmp[\"SegStart_ms\"] = int(Path(fname).stem.split(\"_\")[1])\n",
    "    \n",
    "    segs.append(tmp)\n",
    "\n"
   ]
  },
  {
   "cell_type": "code",
   "execution_count": 18,
   "id": "d3fadb89",
   "metadata": {},
   "outputs": [],
   "source": [
    "segs = pd.concat(segs)\n",
    "segs.reset_index(drop=True,inplace=True)"
   ]
  },
  {
   "cell_type": "code",
   "execution_count": 27,
   "id": "d8f3148b",
   "metadata": {},
   "outputs": [],
   "source": [
    "segs[\"start\"] = segs[\"start\"]+segs[\"SegStart_ms\"]/1e3\n",
    "segs[\"end\"] = segs[\"end\"]+segs[\"SegStart_ms\"]/1e3"
   ]
  },
  {
   "cell_type": "code",
   "execution_count": 30,
   "id": "d0795b31",
   "metadata": {},
   "outputs": [],
   "source": [
    "segs.sort_values(\"start\",inplace=True,ignore_index=True)"
   ]
  },
  {
   "cell_type": "code",
   "execution_count": 37,
   "id": "179ede33",
   "metadata": {},
   "outputs": [
    {
     "data": {
      "text/plain": [
       "27"
      ]
     },
     "execution_count": 37,
     "metadata": {},
     "output_type": "execute_result"
    }
   ],
   "source": [
    "sum(segs.text == ' © BF-WATCH TV 2021')"
   ]
  },
  {
   "cell_type": "code",
   "execution_count": 40,
   "id": "184c9404",
   "metadata": {},
   "outputs": [],
   "source": [
    "with open(\"../DoZan-movie/audio-chunks/chunk_0_937648.json\",'r') as f:\n",
    "    tmp = json.load(f)\n",
    "\n",
    "_ = [k.pop(\"tokens\") for k in tmp['segments']]"
   ]
  },
  {
   "cell_type": "code",
   "execution_count": 16,
   "id": "53b3ca84",
   "metadata": {},
   "outputs": [
    {
     "data": {
      "text/plain": [
       "1865297"
      ]
     },
     "execution_count": 16,
     "metadata": {},
     "output_type": "execute_result"
    }
   ],
   "source": [
    "int(Path(fname).stem.split(\"_\")[1])"
   ]
  },
  {
   "cell_type": "code",
   "execution_count": null,
   "id": "508b4936-f637-48e2-b2bb-7466d9bccd0b",
   "metadata": {},
   "outputs": [],
   "source": [
    "# Function to convert start time to \"minutes seconds\" format and format the data accordingly\n",
    "def convert_to_min_sec_format(data, timeadd:int):\n",
    "    formatted_text = \"\\n\".join([\n",
    "        f\"[{int((item['start'] +timeadd) // 60)}:{int((item['start']+timeadd) % 60):02}] \\\"{item['text'].strip()}\\\"\"\n",
    "        for item in data\n",
    "    ])\n",
    "    return formatted_text\n",
    "\n",
    "# Convert using the new format requirement\n",
    "min_sec_text_format = convert_to_min_sec_format(tmp,895)\n",
    "print(min_sec_text_format)"
   ]
  },
  {
   "cell_type": "code",
   "execution_count": 44,
   "id": "87e100b6-438b-4109-88c0-a3c96e177038",
   "metadata": {},
   "outputs": [],
   "source": [
    "# Save to a new text file\n",
    "min_sec_file_path = \"../googoosh_q_and_a_interview/from_895s.txt\"\n",
    "with open(min_sec_file_path, 'w') as file:\n",
    "    file.write(min_sec_text_format)"
   ]
  },
  {
   "cell_type": "code",
   "execution_count": null,
   "id": "9f31d022-1da0-4862-b287-01520b3b5ddf",
   "metadata": {},
   "outputs": [],
   "source": []
  }
 ],
 "metadata": {
  "kernelspec": {
   "display_name": "Python 3 (ipykernel)",
   "language": "python",
   "name": "python3"
  },
  "language_info": {
   "codemirror_mode": {
    "name": "ipython",
    "version": 3
   },
   "file_extension": ".py",
   "mimetype": "text/x-python",
   "name": "python",
   "nbconvert_exporter": "python",
   "pygments_lexer": "ipython3",
   "version": "3.10.6"
  }
 },
 "nbformat": 4,
 "nbformat_minor": 5
}
