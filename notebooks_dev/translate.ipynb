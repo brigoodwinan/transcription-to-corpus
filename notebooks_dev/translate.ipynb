{
 "cells": [
  {
   "cell_type": "code",
   "execution_count": 33,
   "id": "ebfbfa23-5cfb-458a-ab74-6b08f99cd744",
   "metadata": {},
   "outputs": [],
   "source": [
    "from openai import OpenAI\n",
    "import json"
   ]
  },
  {
   "cell_type": "code",
   "execution_count": 34,
   "id": "8f0d5044-2d1f-4c2b-87d8-4118b3da47ea",
   "metadata": {},
   "outputs": [],
   "source": [
    "from dotenv import load_dotenv\n",
    "from openai import OpenAI\n",
    "import os \n",
    "\n",
    "load_dotenv()\n",
    "\n",
    "OPENAI_API_KEY = os.getenv(\"OPENAI_API_KEY\")\n",
    "\n",
    "client = OpenAI(api_key=OPENAI_API_KEY)"
   ]
  },
  {
   "cell_type": "code",
   "execution_count": 40,
   "id": "b73b5679-217c-43cb-b4f3-a0ac7fc539f5",
   "metadata": {},
   "outputs": [],
   "source": [
    "# with open(\"../googoosh_q_and_a_interview/first_2minutes.mp3\", \"rb\") as audio_file:\n",
    "# with open(\"../googoosh_q_and_a_interview/first_905s.mp3\", \"rb\") as audio_file:\n",
    "with open(\"../googoosh_q_and_a_interview/from_895s.mp3\", \"rb\") as audio_file:\n",
    "    translation = client.audio.translations.create(\n",
    "        model=\"whisper-1\",\n",
    "        file=audio_file,\n",
    "        response_format=\"verbose_json\",\n",
    "    )"
   ]
  },
  {
   "cell_type": "code",
   "execution_count": 41,
   "id": "11971f86-3a8a-4ed4-92dc-da69d1b308f2",
   "metadata": {},
   "outputs": [],
   "source": [
    "tmp = json.loads(translation.json())"
   ]
  },
  {
   "cell_type": "code",
   "execution_count": 42,
   "id": "e8b9b372-0aa3-4661-bce0-a74bd51822df",
   "metadata": {},
   "outputs": [],
   "source": [
    "tmp = tmp[\"segments\"]\n",
    "\n",
    "_ = [k.pop(\"tokens\") for k in tmp]"
   ]
  },
  {
   "cell_type": "code",
   "execution_count": null,
   "id": "508b4936-f637-48e2-b2bb-7466d9bccd0b",
   "metadata": {},
   "outputs": [],
   "source": [
    "# Function to convert start time to \"minutes seconds\" format and format the data accordingly\n",
    "def convert_to_min_sec_format(data, timeadd:int):\n",
    "    formatted_text = \"\\n\".join([\n",
    "        f\"[{int((item['start'] +timeadd) // 60)}:{int((item['start']+timeadd) % 60):02}] \\\"{item['text'].strip()}\\\"\"\n",
    "        for item in data\n",
    "    ])\n",
    "    return formatted_text\n",
    "\n",
    "# Convert using the new format requirement\n",
    "min_sec_text_format = convert_to_min_sec_format(tmp,895)\n",
    "print(min_sec_text_format)"
   ]
  },
  {
   "cell_type": "code",
   "execution_count": 44,
   "id": "87e100b6-438b-4109-88c0-a3c96e177038",
   "metadata": {},
   "outputs": [],
   "source": [
    "# Save to a new text file\n",
    "min_sec_file_path = \"../googoosh_q_and_a_interview/from_895s.txt\"\n",
    "with open(min_sec_file_path, 'w') as file:\n",
    "    file.write(min_sec_text_format)"
   ]
  },
  {
   "cell_type": "code",
   "execution_count": null,
   "id": "9f31d022-1da0-4862-b287-01520b3b5ddf",
   "metadata": {},
   "outputs": [],
   "source": []
  }
 ],
 "metadata": {
  "kernelspec": {
   "display_name": "Python 3 (ipykernel)",
   "language": "python",
   "name": "python3"
  },
  "language_info": {
   "codemirror_mode": {
    "name": "ipython",
    "version": 3
   },
   "file_extension": ".py",
   "mimetype": "text/x-python",
   "name": "python",
   "nbconvert_exporter": "python",
   "pygments_lexer": "ipython3",
   "version": "3.10.6"
  }
 },
 "nbformat": 4,
 "nbformat_minor": 5
}
